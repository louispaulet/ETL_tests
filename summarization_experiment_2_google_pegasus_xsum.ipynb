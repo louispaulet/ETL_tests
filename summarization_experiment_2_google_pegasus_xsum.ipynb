{
  "nbformat": 4,
  "nbformat_minor": 0,
  "metadata": {
    "colab": {
      "provenance": []
    },
    "kernelspec": {
      "name": "python3",
      "display_name": "Python 3"
    },
    "language_info": {
      "name": "python"
    },
    "accelerator": "GPU",
    "gpuClass": "standard"
  },
  "cells": [
    {
      "cell_type": "markdown",
      "source": [
        "---\n",
        "# Text Summarization with PEGASUS-XSUM\n",
        "\n",
        "This notebook demonstrates the process of summarizing text using the Google PEGASUS-XSUM model from the Hugging Face Transformers library. The PEGASUS-XSUM model is a pre-trained abstractive text summarization model that can generate concise summaries of long text inputs.\n",
        "\n",
        "The notebook is organized as follows:\n",
        "\n",
        "1. **Installation and Importing Libraries**: We install the required Hugging Face Transformers library and the Newspaper3k library for extracting article content.\n",
        "\n",
        "2. **Fetching Article Content**: We use the Newspaper3k library to fetch a long text from a Wikipedia article.\n",
        "\n",
        "3. **Checking GPU Availability**: We check for the availability of a GPU to run the PEGASUS-XSUM model more efficiently.\n",
        "\n",
        "4. **Splitting Text into Chunks**: Since the PEGASUS-XSUM model accepts a maximum of 1024 tokens as input, we split the text into smaller chunks to avoid exceeding this limit.\n",
        "\n",
        "5. **Summarizing Text**: We summarize each chunk of text using the PEGASUS-XSUM model and then concatenate the summaries to produce the final summary.\n",
        "\n",
        "6. **Evaluating the Summary**: We evaluate the quality of the summary by calculating various evaluation metrics like BLEU, METEOR, and ROUGE scores.\n",
        "\n",
        "Throughout this notebook, you will learn how to fetch content from a Wikipedia article, split the text into smaller chunks, use the PEGASUS-XSUM model to generate summaries, and evaluate the quality of the generated summaries.\n",
        "\n",
        "---\n"
      ],
      "metadata": {
        "id": "mU-A7EY3kwN1"
      }
    },
    {
      "cell_type": "markdown",
      "source": [
        "# libs install"
      ],
      "metadata": {
        "id": "wBgUvn9BQYDM"
      }
    },
    {
      "cell_type": "code",
      "execution_count": 13,
      "metadata": {
        "colab": {
          "base_uri": "https://localhost:8080/"
        },
        "id": "ATd7U7pC7kEV",
        "outputId": "f04fbf08-fc17-4da8-bdb1-0b38db8e6376"
      },
      "outputs": [
        {
          "output_type": "stream",
          "name": "stdout",
          "text": [
            "Looking in indexes: https://pypi.org/simple, https://us-python.pkg.dev/colab-wheels/public/simple/\n",
            "Requirement already satisfied: transformers in /usr/local/lib/python3.9/dist-packages (4.27.1)\n",
            "Requirement already satisfied: pyyaml>=5.1 in /usr/local/lib/python3.9/dist-packages (from transformers) (6.0)\n",
            "Requirement already satisfied: numpy>=1.17 in /usr/local/lib/python3.9/dist-packages (from transformers) (1.22.4)\n",
            "Requirement already satisfied: tqdm>=4.27 in /usr/local/lib/python3.9/dist-packages (from transformers) (4.65.0)\n",
            "Requirement already satisfied: filelock in /usr/local/lib/python3.9/dist-packages (from transformers) (3.10.0)\n",
            "Requirement already satisfied: huggingface-hub<1.0,>=0.11.0 in /usr/local/lib/python3.9/dist-packages (from transformers) (0.13.2)\n",
            "Requirement already satisfied: packaging>=20.0 in /usr/local/lib/python3.9/dist-packages (from transformers) (23.0)\n",
            "Requirement already satisfied: requests in /usr/local/lib/python3.9/dist-packages (from transformers) (2.27.1)\n",
            "Requirement already satisfied: tokenizers!=0.11.3,<0.14,>=0.11.1 in /usr/local/lib/python3.9/dist-packages (from transformers) (0.13.2)\n",
            "Requirement already satisfied: regex!=2019.12.17 in /usr/local/lib/python3.9/dist-packages (from transformers) (2022.10.31)\n",
            "Requirement already satisfied: typing-extensions>=3.7.4.3 in /usr/local/lib/python3.9/dist-packages (from huggingface-hub<1.0,>=0.11.0->transformers) (4.5.0)\n",
            "Requirement already satisfied: charset-normalizer~=2.0.0 in /usr/local/lib/python3.9/dist-packages (from requests->transformers) (2.0.12)\n",
            "Requirement already satisfied: certifi>=2017.4.17 in /usr/local/lib/python3.9/dist-packages (from requests->transformers) (2022.12.7)\n",
            "Requirement already satisfied: urllib3<1.27,>=1.21.1 in /usr/local/lib/python3.9/dist-packages (from requests->transformers) (1.26.15)\n",
            "Requirement already satisfied: idna<4,>=2.5 in /usr/local/lib/python3.9/dist-packages (from requests->transformers) (3.4)\n",
            "Looking in indexes: https://pypi.org/simple, https://us-python.pkg.dev/colab-wheels/public/simple/\n",
            "Requirement already satisfied: transformers in /usr/local/lib/python3.9/dist-packages (4.27.1)\n",
            "Requirement already satisfied: newspaper3k in /usr/local/lib/python3.9/dist-packages (0.2.8)\n",
            "Requirement already satisfied: pyyaml>=5.1 in /usr/local/lib/python3.9/dist-packages (from transformers) (6.0)\n",
            "Requirement already satisfied: numpy>=1.17 in /usr/local/lib/python3.9/dist-packages (from transformers) (1.22.4)\n",
            "Requirement already satisfied: requests in /usr/local/lib/python3.9/dist-packages (from transformers) (2.27.1)\n",
            "Requirement already satisfied: tqdm>=4.27 in /usr/local/lib/python3.9/dist-packages (from transformers) (4.65.0)\n",
            "Requirement already satisfied: filelock in /usr/local/lib/python3.9/dist-packages (from transformers) (3.10.0)\n",
            "Requirement already satisfied: packaging>=20.0 in /usr/local/lib/python3.9/dist-packages (from transformers) (23.0)\n",
            "Requirement already satisfied: tokenizers!=0.11.3,<0.14,>=0.11.1 in /usr/local/lib/python3.9/dist-packages (from transformers) (0.13.2)\n",
            "Requirement already satisfied: huggingface-hub<1.0,>=0.11.0 in /usr/local/lib/python3.9/dist-packages (from transformers) (0.13.2)\n",
            "Requirement already satisfied: regex!=2019.12.17 in /usr/local/lib/python3.9/dist-packages (from transformers) (2022.10.31)\n",
            "Requirement already satisfied: python-dateutil>=2.5.3 in /usr/local/lib/python3.9/dist-packages (from newspaper3k) (2.8.2)\n",
            "Requirement already satisfied: beautifulsoup4>=4.4.1 in /usr/local/lib/python3.9/dist-packages (from newspaper3k) (4.11.2)\n",
            "Requirement already satisfied: feedparser>=5.2.1 in /usr/local/lib/python3.9/dist-packages (from newspaper3k) (6.0.10)\n",
            "Requirement already satisfied: tldextract>=2.0.1 in /usr/local/lib/python3.9/dist-packages (from newspaper3k) (3.4.0)\n",
            "Requirement already satisfied: jieba3k>=0.35.1 in /usr/local/lib/python3.9/dist-packages (from newspaper3k) (0.35.1)\n",
            "Requirement already satisfied: lxml>=3.6.0 in /usr/local/lib/python3.9/dist-packages (from newspaper3k) (4.9.2)\n",
            "Requirement already satisfied: nltk>=3.2.1 in /usr/local/lib/python3.9/dist-packages (from newspaper3k) (3.8.1)\n",
            "Requirement already satisfied: tinysegmenter==0.3 in /usr/local/lib/python3.9/dist-packages (from newspaper3k) (0.3)\n",
            "Requirement already satisfied: feedfinder2>=0.0.4 in /usr/local/lib/python3.9/dist-packages (from newspaper3k) (0.0.4)\n",
            "Requirement already satisfied: Pillow>=3.3.0 in /usr/local/lib/python3.9/dist-packages (from newspaper3k) (8.4.0)\n",
            "Requirement already satisfied: cssselect>=0.9.2 in /usr/local/lib/python3.9/dist-packages (from newspaper3k) (1.2.0)\n",
            "Requirement already satisfied: soupsieve>1.2 in /usr/local/lib/python3.9/dist-packages (from beautifulsoup4>=4.4.1->newspaper3k) (2.4)\n",
            "Requirement already satisfied: six in /usr/local/lib/python3.9/dist-packages (from feedfinder2>=0.0.4->newspaper3k) (1.15.0)\n",
            "Requirement already satisfied: sgmllib3k in /usr/local/lib/python3.9/dist-packages (from feedparser>=5.2.1->newspaper3k) (1.0.0)\n",
            "Requirement already satisfied: typing-extensions>=3.7.4.3 in /usr/local/lib/python3.9/dist-packages (from huggingface-hub<1.0,>=0.11.0->transformers) (4.5.0)\n",
            "Requirement already satisfied: click in /usr/local/lib/python3.9/dist-packages (from nltk>=3.2.1->newspaper3k) (8.1.3)\n",
            "Requirement already satisfied: joblib in /usr/local/lib/python3.9/dist-packages (from nltk>=3.2.1->newspaper3k) (1.1.1)\n",
            "Requirement already satisfied: idna<4,>=2.5 in /usr/local/lib/python3.9/dist-packages (from requests->transformers) (3.4)\n",
            "Requirement already satisfied: urllib3<1.27,>=1.21.1 in /usr/local/lib/python3.9/dist-packages (from requests->transformers) (1.26.15)\n",
            "Requirement already satisfied: certifi>=2017.4.17 in /usr/local/lib/python3.9/dist-packages (from requests->transformers) (2022.12.7)\n",
            "Requirement already satisfied: charset-normalizer~=2.0.0 in /usr/local/lib/python3.9/dist-packages (from requests->transformers) (2.0.12)\n",
            "Requirement already satisfied: requests-file>=1.4 in /usr/local/lib/python3.9/dist-packages (from tldextract>=2.0.1->newspaper3k) (1.5.1)\n"
          ]
        },
        {
          "output_type": "stream",
          "name": "stderr",
          "text": [
            "[nltk_data] Downloading package wordnet to /root/nltk_data...\n",
            "[nltk_data]   Package wordnet is already up-to-date!\n"
          ]
        },
        {
          "output_type": "execute_result",
          "data": {
            "text/plain": [
              "True"
            ]
          },
          "metadata": {},
          "execution_count": 13
        }
      ],
      "source": [
        "!pip install transformers\n",
        "!pip install transformers newspaper3k\n",
        "\n",
        "# used later for evaluation\n",
        "import nltk\n",
        "nltk.download('wordnet')"
      ]
    },
    {
      "cell_type": "markdown",
      "source": [
        "# Get a long text from wikipedia"
      ],
      "metadata": {
        "id": "3E2N1DiTfYs7"
      }
    },
    {
      "cell_type": "code",
      "source": [
        "from newspaper import Article\n",
        "\n",
        "url = \"https://en.wikipedia.org/wiki/Presidency_of_Nicolas_Sarkozy\"\n",
        "\n",
        "article = Article(url)\n",
        "article.download()\n",
        "article.parse()\n",
        "text = article.text"
      ],
      "metadata": {
        "id": "qJmBTfseDVox"
      },
      "execution_count": 14,
      "outputs": []
    },
    {
      "cell_type": "markdown",
      "source": [
        "# check GPU"
      ],
      "metadata": {
        "id": "xfkMjZ7Bfhvk"
      }
    },
    {
      "cell_type": "code",
      "source": [
        "import torch\n",
        "\n",
        "if torch.cuda.is_available():\n",
        "    device = torch.device(\"cuda\")\n",
        "    print(f\"Using GPU: {torch.cuda.get_device_name(0)}\")\n",
        "else:\n",
        "    device = torch.device(\"cpu\")\n",
        "    print(\"Using CPU\")\n"
      ],
      "metadata": {
        "colab": {
          "base_uri": "https://localhost:8080/"
        },
        "id": "lg-S4bDOQ9aY",
        "outputId": "9f3a446c-f934-487c-8274-d3c188aa9a74"
      },
      "execution_count": 15,
      "outputs": [
        {
          "output_type": "stream",
          "name": "stdout",
          "text": [
            "Using GPU: Tesla T4\n"
          ]
        }
      ]
    },
    {
      "cell_type": "markdown",
      "source": [
        "# Split text into correct size chunks and summarize chunks\n",
        "\n",
        "The summarization model accepts max 1024 tokens in input. We use a simple word count with a safety margin. We could use a tokenizer to get the correct amounts in each chunk, but the score isn't too affected by this method."
      ],
      "metadata": {
        "id": "-lHxyKXAfjqJ"
      }
    },
    {
      "cell_type": "code",
      "source": [
        "from transformers import pipeline\n",
        "from tqdm import tqdm\n",
        "\n",
        "# summarizer = pipeline('summarization')\n",
        "\n",
        "from transformers import pipeline\n",
        "import torch\n",
        "\n",
        "if torch.cuda.is_available():\n",
        "    device = torch.device(\"cuda\")\n",
        "    print(f\"Using GPU: {torch.cuda.get_device_name(0)}\")\n",
        "else:\n",
        "    device = torch.device(\"cpu\")\n",
        "    print(\"Using CPU\")\n",
        "\n",
        "# summarizer = pipeline('summarization').to(torch.device)\n",
        "device = 0 if torch.cuda.is_available() else -1\n",
        "# summarizer = pipeline(\"summarization\", device=device, model=\"sshleifer/distilbart-cnn-12-6\") \n",
        "summarizer = pipeline(\"summarization\", device=device, model=\"google/pegasus-xsum\") \n",
        "\n",
        "\n",
        "def split_text(text, chunk_size):\n",
        "    words = text.split()\n",
        "    chunks = []\n",
        "    current_chunk = []\n",
        "\n",
        "    for word in words:\n",
        "        if len(' '.join(current_chunk)) + len(word) < chunk_size:\n",
        "            current_chunk.append(word)\n",
        "        else:\n",
        "            chunks.append(' '.join(current_chunk))\n",
        "            current_chunk = [word]\n",
        "\n",
        "    if current_chunk:\n",
        "        chunks.append(' '.join(current_chunk))\n",
        "\n",
        "    return chunks\n",
        "\n",
        "def summarize_text(text, max_sentences=1, max_tokens=1024):\n",
        "    chunks = split_text(text, max_tokens - 10)  # Subtracting 10 tokens to be on the safe side\n",
        "    summaries = []\n",
        "\n",
        "    for chunk in tqdm(chunks):\n",
        "        summary = summarizer(chunk, max_length=max_sentences * 20, min_length=max_sentences * 5, do_sample=False)\n",
        "        summaries.append(summary[0]['summary_text'])\n",
        "\n",
        "    summary = ' '.join(summaries)\n",
        "    summary_len = len([sentence for sentence in summary.split('.') if sentence != \"\"]) #remove empty strings to count real sentences\n",
        "\n",
        "    # summarize until 10 sentences left -- recursive summarize, yields poor results\n",
        "    # if summary_len > 10:\n",
        "    #   summary = summarize_text(summary, max_sentences=5, max_tokens=1024)\n",
        "\n",
        "    return summary\n",
        "\n",
        "# input_text = \"Your long text here.\"\n",
        "summary = summarize_text(text, 10)\n",
        "print(summary)\n"
      ],
      "metadata": {
        "colab": {
          "base_uri": "https://localhost:8080/"
        },
        "id": "IeRRFVWFF6gf",
        "outputId": "1fa81a35-ae72-4f41-f76e-5930903f3608"
      },
      "execution_count": 19,
      "outputs": [
        {
          "output_type": "stream",
          "name": "stdout",
          "text": [
            "Using GPU: Tesla T4\n"
          ]
        },
        {
          "output_type": "stream",
          "name": "stderr",
          "text": [
            "  0%|          | 0/27 [00:00<?, ?it/s]Your max_length is set to 200, but you input_length is only 197. You might consider decreasing max_length manually, e.g. summarizer('...', max_length=98)\n",
            " 22%|██▏       | 6/27 [00:13<00:52,  2.49s/it]Your max_length is set to 200, but you input_length is only 194. You might consider decreasing max_length manually, e.g. summarizer('...', max_length=97)\n",
            " 52%|█████▏    | 14/27 [00:33<00:28,  2.17s/it]Your max_length is set to 200, but you input_length is only 194. You might consider decreasing max_length manually, e.g. summarizer('...', max_length=97)\n",
            "100%|██████████| 27/27 [01:02<00:00,  2.31s/it]"
          ]
        },
        {
          "output_type": "stream",
          "name": "stdout",
          "text": [
            "Nicolas Sarkozy is the sixth president of the French Fifth Republic, and the first conservative president of the republic since the quinquennat reform of 2000, which abolished the two-term limit for presidential elections and replaced it with a five-year term. Nicolas Sarkozy became the first French president since the Fifth Republic to be elected with a majority of votes in the first round of the presidential elections in May 2007 and a majority of votes in the second round of the elections in June 2008.[2] He became the first French president since the Fifth Republic to be elected with a majority of votes in the first round of the presidential elections in May 2007 and a majority of votes in the second round of the elections in June 2008. Nicolas Sarkozy was the French president between 2007 and 2012, during which time the French economy was hit by the global financial crisis and the country's credit rating was cut from AA to A by the ratings agency Standard & Poor's (S&P). President Nicolas Sarkozy and his wife, Carla Bruni-Sarkozy, left Paris on 14 May for a week-long holiday in the Mediterranean, which included a visit to the island of Gozo, where Sarkozy's father, Pal Sarkozy, is from. Nicolas Sarkozy was sworn in as France's new president on 17 May at the lysée Palace in Paris, the first right-wing leader to occupy the Elysee Palace since the end of the Nazi occupation in World War Two. French President Nicolas Sarkozy, who took office in May 2007 after winning the second round of the presidential election, swore in his new cabinet on 23 October.[24][25] Among the new faces in the cabinet are the first female prime minister of France, Christine Lagarde, and the country's first female finance minister, Christine Lagarde. French President Nicolas Sarkozy's government issued a decree on 1 July 2007 to reform the inheritance tax, which had been introduced by the Socialist government of Francois Mitterrand and which had been criticised by the French National Front (CNIL) party. President Nicolas Sarkozy's first 100 days in office have been marked by a series of high-profile and low-profile events, including the release of Bulgarian nurses, the renegotiation of Colombia's peace deal and the launch of France's fight against terrorism. French President Nicolas Sarkozy signed a series of agreements with Libyan leader Muammar Gaddafi, including a $230 million (168 million euros) antitank missile deal, in exchange for the release of five Bulgarian nurses who had been imprisoned in Libya for more than eight years. French President Nicolas Sarkozy has signed a deal with Libyan leader Muammar Gaddafi to build three nuclear power stations in Libya for a total cost of 1bn euros ($1.4bn; £800m) - the first such deal signed by a French leader since Tony Blair's visit in May 2007. A French newspaper, Le Parisien, has reported that the French government has signed a deal with Libya to supply it with nuclear technology, just a few days after the liberation of the Six, the French hostages held by Colonel Gaddafi's forces. The following is a guide to some of the statements made by French President Nicolas Sarkozy since he came to power in May 2007 and how they compare with those made by his predecessor, Francois Mitterrand, and by his predecessor, Jacques Chirac. French President Nicolas Sarkozy's controversial remarks on Africa in a speech in Senegal in December 2009 have been widely condemned by African intellectuals, who see them as displaying a deep ignorance by Sarkozy of African studies, wondering how it was possible to hold similar discourses French President Nicolas Sarkozy's speech at the opening of the African Union summit in Addis Ababa, Ethiopia, in 2008 was criticised by some African leaders for being too pessimistic about the future of the continent, and for failing to address the issue of poverty. Nicolas Sarkozy was elected president of France on 5 May 2007; he was the first French president to seek re-election since the end of the Franco-American War in 1958, and the first French president to seek re-election since the end of World War II. French President Nicolas Sarkozy has had a busy first year in office, with visits to the Pope, the United States, Libya, and France's traditional summer holiday, the Lake Winnipesaukee in New Hampshire, where he was expected to stay in the 11-bathroom shorefront mansion of former Microsoft executive Michael Appe. President Nicolas Sarkozy's first year in office was marked by a number of high-profile controversies, including the visit of Libyan leader Muammar Gaddafi to France in July 2007.[55] Sarkozy's first year in office was marked by a number of high-profile controversies, including the visit of Libyan leader Muammar Gaddafi to France in July 2007. French President Nicolas Sarkozy came to power in May 2007 on the back of a wave of economic and social reforms that had swept his centre-right UMP party to victory in parliamentary and presidential elections across the country in the previous year and a half. Voters in France went to the polls on Sunday to elect mayors in local elections, in which the far-right National Front (FN) party won most of the votes, but failed to win a majority of the arrondissements (suburbs). French President Nicolas Sarkozy signed into law a bill banning the wearing of the Islamic full-face veil in schools, universities and other public institutions in France, which came into effect on 1 July 2008 after it was passed by both houses of the French parliament. President Nicolas Sarkozy has used France's position as the world's second-largest economy to push through a series of foreign policy and economic reforms, including a reduction in France's CO 2 emissions and closer ties with North Africa and the Mideast. The following is a chronology of key events under French President Nicolas Sarkozy, as compiled by the French news agency AFP, between 1 May 2007 and 31 March 2011.[7] Dominique Strauss-Kahn's resignation as head of the International Monetary Fund (IMF). Nicolas Sarkozy's presidency has been marked by a series of high-profile events, including the G20 summit in Pittsburgh, the Russo-Georgian war, protests in the French overseas territories, and visits to Mexico and the South Ossetia war. French President Nicolas Sarkozy was elected in 2007 on a wave of economic and social reforms, which were widely seen as a response to the economic crisis of the 1980s and 1990s, and which were 888-282-0465 888-282-0465 888-282-0465 888-282-0465 888-282-0465 888-282-0465 888-282-0465 888-282-0465 888-282-0465 888-282-0465 888-282-0465 888-282-0465 888-282-0465 888-282-0465 888-282-0465 888-282-0465 888-282-0465 888-282-0465 888-282-0465 888-282-0465 888-282-0465 888-282-0465 888-282-0465 888-282-0465 888-282-0465 888-282-0465 888-282-0465 888-282-0465 888-282-0465 888-282-0465 888-282-0465 888-282-0465 888-282-0465 888-282-0465 888-282-0465 888-282-0465 888-282-0465 888-282-0465 888-282-0465 888-282-0465 888-282-0465 888-282-0465 888-282-0465 888-282-0465 888-282-0465 888-282-0465 888-282-0465 888-282-0465 888-282-0465 888-282-0465 888-282-0465 888-282-0465 888-282-0465 888-282-0465 888-282-0465 888-282-0465 888-282-0465 888-282-0465 888-282-0465 888-282-0465 888-282-0465 888-282-0465 888-282-0465 888-282-0465 888-282-0465 888-282-0465 888-282-0465 888-282-0465 888-282-0465 888-282-0465 888-282-0465 888-282-0465 888-282-0465 888-282-0465 888-282-0465 888-282-0465 888-282-0465 888-282-0465 888-282-0465 888-282-0465 888-282-0465 888-282-0465 888-282-0465 888-282-0465 888-282-0465 888-282-0465 888-282-0465 888-282-0465 888-282-0465 888-282-0465 888-282-0465 888-282-0465 888-282-0465 888-282-0465 888-282-0465 888-282-0465 888-282-0465 888-282-0465 888-282-0465 888-282-0465 888-282-0465 888-282-0465 888-282-0465 888-282-0465 888-282-0465 888-282-0465 888-282-0465 888-282-0465 888-282-0465 888-282-0465 888-282-0465 888-282-0465 888-282-0465 888-282-0465 888-282-0465 888-282-0465 888-282-0465 888-282-0465 888-282-0465 888-282-0465 888-282-0465 888-282-0465 888-282-0465 888-282-0465 888-282-0465 888-282-0465 888-282-0465 888-282-0465 888-282-0465 888-282-0465 888-282-0465 888-282-0465 888-282-0465 888-282-0465 888-282-0465 888-282-0465 888-282-0465 888-282-0465 888-282-0465 888-282-0465 888-282-0465 888-282-0465 888-282-0465 888-282-0465 888-282-0465 888-282-0465 888-282-0465 888-282-0465 888-282-0465 888-282-0465 888-282-0465 888-282-0465 888-282-0465 888-282-0465 888-282-0465 888-282-0465 888-282-0465 888-282-0465 888-282-0465 French President Nicolas Sarkozy came to power in May 2007 on a wave of support from the far-right National Front (FN) party, and was re-elected in May 2008 on a wave of support from the centre-right UMP party. The following is a selection of papers by French academics on Nicolas Sarkozy's time in the Elysee Palace, as compiled by the Centre for Research on French Politics at the University of Paris-Dakar (CRPD) between 2007 and 2012. \"The mediatization of presidential leadership in France: The contrasting cases of Nicolas Sarkozy and Franois Hollande.\" French Politics 15.1: 57-74. The following is a selection of papers by French academics on Nicolas Sarkozy, which have been published over the past five years, as well as a selection of papers by other French academics, which have been published over the past five years, as well as a selection of papers by other French academics, which have been published over the past five years, as well as a selection of papers by other French academics, which have been published over the past five years, as well as a selection of papers by other French academics, who have been published over the past five years, as well as a selection of papers by other French academics, who have been published over the past five years, as well as a selection of papers by other French academics, who have been published over the past five years, as well as a selection of papers by other French academics, who have been published over the past five years, as well as a selection of papers by other French academics, who have been published over the past five\n"
          ]
        },
        {
          "output_type": "stream",
          "name": "stderr",
          "text": [
            "\n"
          ]
        }
      ]
    },
    {
      "cell_type": "code",
      "source": [
        "summary.split('.')"
      ],
      "metadata": {
        "colab": {
          "base_uri": "https://localhost:8080/"
        },
        "id": "zBKjmVkrGFBi",
        "outputId": "52cbb7c4-62d9-462b-d4fb-f19bb2f16d04"
      },
      "execution_count": 20,
      "outputs": [
        {
          "output_type": "execute_result",
          "data": {
            "text/plain": [
              "['Nicolas Sarkozy is the sixth president of the French Fifth Republic, and the first conservative president of the republic since the quinquennat reform of 2000, which abolished the two-term limit for presidential elections and replaced it with a five-year term',\n",
              " ' Nicolas Sarkozy became the first French president since the Fifth Republic to be elected with a majority of votes in the first round of the presidential elections in May 2007 and a majority of votes in the second round of the elections in June 2008',\n",
              " '[2] He became the first French president since the Fifth Republic to be elected with a majority of votes in the first round of the presidential elections in May 2007 and a majority of votes in the second round of the elections in June 2008',\n",
              " \" Nicolas Sarkozy was the French president between 2007 and 2012, during which time the French economy was hit by the global financial crisis and the country's credit rating was cut from AA to A by the ratings agency Standard & Poor's (S&P)\",\n",
              " \" President Nicolas Sarkozy and his wife, Carla Bruni-Sarkozy, left Paris on 14 May for a week-long holiday in the Mediterranean, which included a visit to the island of Gozo, where Sarkozy's father, Pal Sarkozy, is from\",\n",
              " \" Nicolas Sarkozy was sworn in as France's new president on 17 May at the lysée Palace in Paris, the first right-wing leader to occupy the Elysee Palace since the end of the Nazi occupation in World War Two\",\n",
              " ' French President Nicolas Sarkozy, who took office in May 2007 after winning the second round of the presidential election, swore in his new cabinet on 23 October',\n",
              " \"[24][25] Among the new faces in the cabinet are the first female prime minister of France, Christine Lagarde, and the country's first female finance minister, Christine Lagarde\",\n",
              " \" French President Nicolas Sarkozy's government issued a decree on 1 July 2007 to reform the inheritance tax, which had been introduced by the Socialist government of Francois Mitterrand and which had been criticised by the French National Front (CNIL) party\",\n",
              " \" President Nicolas Sarkozy's first 100 days in office have been marked by a series of high-profile and low-profile events, including the release of Bulgarian nurses, the renegotiation of Colombia's peace deal and the launch of France's fight against terrorism\",\n",
              " ' French President Nicolas Sarkozy signed a series of agreements with Libyan leader Muammar Gaddafi, including a $230 million (168 million euros) antitank missile deal, in exchange for the release of five Bulgarian nurses who had been imprisoned in Libya for more than eight years',\n",
              " ' French President Nicolas Sarkozy has signed a deal with Libyan leader Muammar Gaddafi to build three nuclear power stations in Libya for a total cost of 1bn euros ($1',\n",
              " \"4bn; £800m) - the first such deal signed by a French leader since Tony Blair's visit in May 2007\",\n",
              " \" A French newspaper, Le Parisien, has reported that the French government has signed a deal with Libya to supply it with nuclear technology, just a few days after the liberation of the Six, the French hostages held by Colonel Gaddafi's forces\",\n",
              " ' The following is a guide to some of the statements made by French President Nicolas Sarkozy since he came to power in May 2007 and how they compare with those made by his predecessor, Francois Mitterrand, and by his predecessor, Jacques Chirac',\n",
              " \" French President Nicolas Sarkozy's controversial remarks on Africa in a speech in Senegal in December 2009 have been widely condemned by African intellectuals, who see them as displaying a deep ignorance by Sarkozy of African studies, wondering how it was possible to hold similar discourses French President Nicolas Sarkozy's speech at the opening of the African Union summit in Addis Ababa, Ethiopia, in 2008 was criticised by some African leaders for being too pessimistic about the future of the continent, and for failing to address the issue of poverty\",\n",
              " ' Nicolas Sarkozy was elected president of France on 5 May 2007; he was the first French president to seek re-election since the end of the Franco-American War in 1958, and the first French president to seek re-election since the end of World War II',\n",
              " \" French President Nicolas Sarkozy has had a busy first year in office, with visits to the Pope, the United States, Libya, and France's traditional summer holiday, the Lake Winnipesaukee in New Hampshire, where he was expected to stay in the 11-bathroom shorefront mansion of former Microsoft executive Michael Appe\",\n",
              " \" President Nicolas Sarkozy's first year in office was marked by a number of high-profile controversies, including the visit of Libyan leader Muammar Gaddafi to France in July 2007\",\n",
              " \"[55] Sarkozy's first year in office was marked by a number of high-profile controversies, including the visit of Libyan leader Muammar Gaddafi to France in July 2007\",\n",
              " ' French President Nicolas Sarkozy came to power in May 2007 on the back of a wave of economic and social reforms that had swept his centre-right UMP party to victory in parliamentary and presidential elections across the country in the previous year and a half',\n",
              " ' Voters in France went to the polls on Sunday to elect mayors in local elections, in which the far-right National Front (FN) party won most of the votes, but failed to win a majority of the arrondissements (suburbs)',\n",
              " ' French President Nicolas Sarkozy signed into law a bill banning the wearing of the Islamic full-face veil in schools, universities and other public institutions in France, which came into effect on 1 July 2008 after it was passed by both houses of the French parliament',\n",
              " \" President Nicolas Sarkozy has used France's position as the world's second-largest economy to push through a series of foreign policy and economic reforms, including a reduction in France's CO 2 emissions and closer ties with North Africa and the Mideast\",\n",
              " ' The following is a chronology of key events under French President Nicolas Sarkozy, as compiled by the French news agency AFP, between 1 May 2007 and 31 March 2011',\n",
              " \"[7] Dominique Strauss-Kahn's resignation as head of the International Monetary Fund (IMF)\",\n",
              " \" Nicolas Sarkozy's presidency has been marked by a series of high-profile events, including the G20 summit in Pittsburgh, the Russo-Georgian war, protests in the French overseas territories, and visits to Mexico and the South Ossetia war\",\n",
              " ' French President Nicolas Sarkozy was elected in 2007 on a wave of economic and social reforms, which were widely seen as a response to the economic crisis of the 1980s and 1990s, and which were 888-282-0465 888-282-0465 888-282-0465 888-282-0465 888-282-0465 888-282-0465 888-282-0465 888-282-0465 888-282-0465 888-282-0465 888-282-0465 888-282-0465 888-282-0465 888-282-0465 888-282-0465 888-282-0465 888-282-0465 888-282-0465 888-282-0465 888-282-0465 888-282-0465 888-282-0465 888-282-0465 888-282-0465 888-282-0465 888-282-0465 888-282-0465 888-282-0465 888-282-0465 888-282-0465 888-282-0465 888-282-0465 888-282-0465 888-282-0465 888-282-0465 888-282-0465 888-282-0465 888-282-0465 888-282-0465 888-282-0465 888-282-0465 888-282-0465 888-282-0465 888-282-0465 888-282-0465 888-282-0465 888-282-0465 888-282-0465 888-282-0465 888-282-0465 888-282-0465 888-282-0465 888-282-0465 888-282-0465 888-282-0465 888-282-0465 888-282-0465 888-282-0465 888-282-0465 888-282-0465 888-282-0465 888-282-0465 888-282-0465 888-282-0465 888-282-0465 888-282-0465 888-282-0465 888-282-0465 888-282-0465 888-282-0465 888-282-0465 888-282-0465 888-282-0465 888-282-0465 888-282-0465 888-282-0465 888-282-0465 888-282-0465 888-282-0465 888-282-0465 888-282-0465 888-282-0465 888-282-0465 888-282-0465 888-282-0465 888-282-0465 888-282-0465 888-282-0465 888-282-0465 888-282-0465 888-282-0465 888-282-0465 888-282-0465 888-282-0465 888-282-0465 888-282-0465 888-282-0465 888-282-0465 888-282-0465 888-282-0465 888-282-0465 888-282-0465 888-282-0465 888-282-0465 888-282-0465 888-282-0465 888-282-0465 888-282-0465 888-282-0465 888-282-0465 888-282-0465 888-282-0465 888-282-0465 888-282-0465 888-282-0465 888-282-0465 888-282-0465 888-282-0465 888-282-0465 888-282-0465 888-282-0465 888-282-0465 888-282-0465 888-282-0465 888-282-0465 888-282-0465 888-282-0465 888-282-0465 888-282-0465 888-282-0465 888-282-0465 888-282-0465 888-282-0465 888-282-0465 888-282-0465 888-282-0465 888-282-0465 888-282-0465 888-282-0465 888-282-0465 888-282-0465 888-282-0465 888-282-0465 888-282-0465 888-282-0465 888-282-0465 888-282-0465 888-282-0465 888-282-0465 888-282-0465 888-282-0465 888-282-0465 888-282-0465 888-282-0465 888-282-0465 888-282-0465 888-282-0465 888-282-0465 888-282-0465 French President Nicolas Sarkozy came to power in May 2007 on a wave of support from the far-right National Front (FN) party, and was re-elected in May 2008 on a wave of support from the centre-right UMP party',\n",
              " \" The following is a selection of papers by French academics on Nicolas Sarkozy's time in the Elysee Palace, as compiled by the Centre for Research on French Politics at the University of Paris-Dakar (CRPD) between 2007 and 2012\",\n",
              " ' \"The mediatization of presidential leadership in France: The contrasting cases of Nicolas Sarkozy and Franois Hollande',\n",
              " '\" French Politics 15',\n",
              " '1: 57-74',\n",
              " ' The following is a selection of papers by French academics on Nicolas Sarkozy, which have been published over the past five years, as well as a selection of papers by other French academics, which have been published over the past five years, as well as a selection of papers by other French academics, which have been published over the past five years, as well as a selection of papers by other French academics, which have been published over the past five years, as well as a selection of papers by other French academics, who have been published over the past five years, as well as a selection of papers by other French academics, who have been published over the past five years, as well as a selection of papers by other French academics, who have been published over the past five years, as well as a selection of papers by other French academics, who have been published over the past five years, as well as a selection of papers by other French academics, who have been published over the past five']"
            ]
          },
          "metadata": {},
          "execution_count": 20
        }
      ]
    },
    {
      "cell_type": "code",
      "source": [
        "print(f\"this is the length of the original text : {len(text)} and this is the length of the summary : {len(summary)}\")"
      ],
      "metadata": {
        "colab": {
          "base_uri": "https://localhost:8080/"
        },
        "id": "2L3IFTWMU1dC",
        "outputId": "b7526dc3-ef55-43f0-aefc-93c76745d1b6"
      },
      "execution_count": 21,
      "outputs": [
        {
          "output_type": "stream",
          "name": "stdout",
          "text": [
            "this is the length of the original text : 27305 and this is the length of the summary : 10134\n"
          ]
        }
      ]
    },
    {
      "cell_type": "markdown",
      "source": [
        "# Evaluation of the summary"
      ],
      "metadata": {
        "id": "ueD1xvzcgset"
      }
    },
    {
      "cell_type": "markdown",
      "source": [
        "##  helper function"
      ],
      "metadata": {
        "id": "3grQzx9-g-p9"
      }
    },
    {
      "cell_type": "code",
      "source": [
        "import nltk\n",
        "from nltk.translate.bleu_score import corpus_bleu\n",
        "from nltk.translate.meteor_score import single_meteor_score\n",
        "from nltk.util import ngrams\n",
        "\n",
        "def evaluation_scores(original_text, summary):\n",
        "    reference_summary = original_text.split()\n",
        "    generated_summary = summary.split()\n",
        "    \n",
        "    bleu = corpus_bleu([reference_summary], [generated_summary])\n",
        "    meteor = single_meteor_score(generated_summary, reference_summary)\n",
        "    original_ngrams = list(ngrams(original_text.split(), 1)) + list(ngrams(original_text.split(), 2)) + list(ngrams(original_text.split(), 3))\n",
        "    summary_ngrams = list(ngrams(summary.split(), 1)) + list(ngrams(summary.split(), 2)) + list(ngrams(summary.split(), 3))\n",
        "    original_ngrams = set(original_ngrams)\n",
        "    summary_ngrams = set(summary_ngrams)\n",
        "    \n",
        "    overlap = original_ngrams & summary_ngrams\n",
        "    rouge_1 = len(overlap) / len(original_ngrams)\n",
        "    rouge_2 = len(overlap) / len(summary_ngrams)\n",
        "    rouge_l = max(rouge_1, rouge_2)\n",
        "    \n",
        "    return bleu, meteor, rouge_1, rouge_2, rouge_l\n",
        "\n",
        "# Test the function\n",
        "\n",
        "original_text = \"In an effort to help slow the spread of COVID-19, many countries have implemented social distancing measures, including the closure of non-essential businesses. Despite the challenges, some entrepreneurs have found ways to adapt and even thrive in the new environment. For example, a restaurant in Italy has started offering home delivery, while a clothing store in the United States has shifted to online sales.\"\n",
        "summary = \"Many countries have closed non-essential businesses to slow the spread of COVID-19. Some entrepreneurs have adapted and thrived, such as a restaurant in Italy offering home delivery and a clothing store in the US shifting to online sales.\"\n",
        "\n",
        "bleu, meteor, rouge_1, rouge_2, rouge_l = evaluation_scores(original_text, summary)\n",
        "\n",
        "print(\"BLEU score:\", bleu)\n",
        "print(\"METEOR score:\", meteor)\n",
        "print(\"ROUGE-1 score:\", rouge_1)\n",
        "print(\"ROUGE-2 score:\", rouge_2)\n",
        "print(\"ROUGE-L score:\", rouge_l)\n"
      ],
      "metadata": {
        "colab": {
          "base_uri": "https://localhost:8080/"
        },
        "id": "lhFaCzH2ghDJ",
        "outputId": "8f2b1f05-2ad3-41a3-9dd7-70559c6cb58f"
      },
      "execution_count": 22,
      "outputs": [
        {
          "output_type": "stream",
          "name": "stdout",
          "text": [
            "BLEU score: 8.726094729337945e-232\n",
            "METEOR score: 0.6741036650012007\n",
            "ROUGE-1 score: 0.24431818181818182\n",
            "ROUGE-2 score: 0.4095238095238095\n",
            "ROUGE-L score: 0.4095238095238095\n"
          ]
        }
      ]
    },
    {
      "cell_type": "markdown",
      "source": [
        "## Evaluation on Rouge, Meteor, and Bleu\n",
        "\n",
        "Really poor scores"
      ],
      "metadata": {
        "id": "QtcRQxFDhAWv"
      }
    },
    {
      "cell_type": "code",
      "source": [
        "bleu, meteor, rouge_1, rouge_2, rouge_l = evaluation_scores(text, summary)\n",
        "\n",
        "print(\"BLEU score:\", bleu)\n",
        "print(\"METEOR score:\", meteor)\n",
        "print(\"ROUGE-1 score:\", rouge_1)\n",
        "print(\"ROUGE-2 score:\", rouge_2)\n",
        "print(\"ROUGE-L score:\", rouge_l)"
      ],
      "metadata": {
        "colab": {
          "base_uri": "https://localhost:8080/"
        },
        "id": "HgQ6A-ECgk3q",
        "outputId": "0a94c05a-36f7-45c2-effa-c8f82249b064"
      },
      "execution_count": 23,
      "outputs": [
        {
          "output_type": "stream",
          "name": "stdout",
          "text": [
            "BLEU score: 8.726094729337945e-232\n",
            "METEOR score: 0.029069767441860468\n",
            "ROUGE-1 score: 0.0016661459960429033\n",
            "ROUGE-2 score: 0.1523809523809524\n",
            "ROUGE-L score: 0.1523809523809524\n"
          ]
        }
      ]
    },
    {
      "cell_type": "markdown",
      "source": [
        "# Further summary and re-evaluation"
      ],
      "metadata": {
        "id": "7RAscAR9iZjW"
      }
    },
    {
      "cell_type": "code",
      "source": [
        "summary = summarize_text(summary, 10)\n",
        "bleu, meteor, rouge_1, rouge_2, rouge_l = evaluation_scores(text, summary)\n",
        "\n",
        "print(\"BLEU score:\", bleu)\n",
        "print(\"METEOR score:\", meteor)\n",
        "print(\"ROUGE-1 score:\", rouge_1)\n",
        "print(\"ROUGE-2 score:\", rouge_2)\n",
        "print(\"ROUGE-L score:\", rouge_l)"
      ],
      "metadata": {
        "colab": {
          "base_uri": "https://localhost:8080/"
        },
        "id": "Ufg_690-gqTS",
        "outputId": "1d2f4a1b-6698-4758-d250-003d0077fcf9"
      },
      "execution_count": 28,
      "outputs": [
        {
          "output_type": "stream",
          "name": "stderr",
          "text": [
            "  0%|          | 0/11 [00:00<?, ?it/s]Your max_length is set to 200, but you input_length is only 194. You might consider decreasing max_length manually, e.g. summarizer('...', max_length=97)\n",
            " 27%|██▋       | 3/11 [00:05<00:13,  1.70s/it]Your max_length is set to 200, but you input_length is only 194. You might consider decreasing max_length manually, e.g. summarizer('...', max_length=97)\n",
            " 55%|█████▍    | 6/11 [00:13<00:11,  2.28s/it]Your max_length is set to 200, but you input_length is only 130. You might consider decreasing max_length manually, e.g. summarizer('...', max_length=65)\n",
            " 64%|██████▎   | 7/11 [00:16<00:10,  2.75s/it]Your max_length is set to 200, but you input_length is only 79. You might consider decreasing max_length manually, e.g. summarizer('...', max_length=39)\n",
            " 73%|███████▎  | 8/11 [00:17<00:06,  2.26s/it]Your max_length is set to 200, but you input_length is only 155. You might consider decreasing max_length manually, e.g. summarizer('...', max_length=77)\n",
            " 91%|█████████ | 10/11 [00:22<00:02,  2.12s/it]Your max_length is set to 200, but you input_length is only 5. You might consider decreasing max_length manually, e.g. summarizer('...', max_length=2)\n",
            "100%|██████████| 11/11 [00:23<00:00,  2.10s/it]\n",
            "/usr/local/lib/python3.9/dist-packages/nltk/translate/bleu_score.py:552: UserWarning: \n",
            "The hypothesis contains 0 counts of 2-gram overlaps.\n",
            "Therefore the BLEU score evaluates to 0, independently of\n",
            "how many N-gram overlaps of lower order it contains.\n",
            "Consider using lower n-gram order or use SmoothingFunction()\n",
            "  warnings.warn(_msg)\n",
            "/usr/local/lib/python3.9/dist-packages/nltk/translate/bleu_score.py:552: UserWarning: \n",
            "The hypothesis contains 0 counts of 3-gram overlaps.\n",
            "Therefore the BLEU score evaluates to 0, independently of\n",
            "how many N-gram overlaps of lower order it contains.\n",
            "Consider using lower n-gram order or use SmoothingFunction()\n",
            "  warnings.warn(_msg)\n",
            "/usr/local/lib/python3.9/dist-packages/nltk/translate/bleu_score.py:552: UserWarning: \n",
            "The hypothesis contains 0 counts of 4-gram overlaps.\n",
            "Therefore the BLEU score evaluates to 0, independently of\n",
            "how many N-gram overlaps of lower order it contains.\n",
            "Consider using lower n-gram order or use SmoothingFunction()\n",
            "  warnings.warn(_msg)\n"
          ]
        },
        {
          "output_type": "stream",
          "name": "stdout",
          "text": [
            "BLEU score: 5.319290575787799e-232\n",
            "METEOR score: 0.23464927473136332\n",
            "ROUGE-1 score: 0.025512860564406957\n",
            "ROUGE-2 score: 0.2387914230019493\n",
            "ROUGE-L score: 0.2387914230019493\n"
          ]
        }
      ]
    },
    {
      "cell_type": "code",
      "source": [
        "summary.split('.')"
      ],
      "metadata": {
        "colab": {
          "base_uri": "https://localhost:8080/"
        },
        "id": "unVEu73gi-i7",
        "outputId": "fcf51063-d604-41b2-8c2e-cbee057564fc"
      },
      "execution_count": 29,
      "outputs": [
        {
          "output_type": "execute_result",
          "data": {
            "text/plain": [
              "[\"Nicolas Sarkozy was the French president between 2007 and 2012, during which time the French economy was hit by the global financial crisis and the country's credit rating was cut from AA to A by the ratings agency Standard & Poor's (S&P)\",\n",
              " \" French President Nicolas Sarkozy and his wife, Carla Bruni-Sarkozy, left Paris on 14 May for a week-long holiday in the Mediterranean, which included a visit to the island of Gozo, where Sarkozy's father, Pal Sarkozy, is from\",\n",
              " \" Sarkozy and his wife, Carla Bruni-Sarkozy, left Paris on 14 May for a week-long holiday in the Mediterranean, which included a visit to the island of Gozo, where Sarkozy's father, Pal Sarkozy, is from\",\n",
              " ' French President Nicolas Sarkozy has signed a series of agreements with Libyan leader Muammar Gaddafi, including a $230 million (168 million euros) antitank missile deal, in exchange for the release of five Bulgarian nurses who had been imprisoned in Libya for more than eight years',\n",
              " ' French President Nicolas Sarkozy has become the first European leader to call for an end to the rule of Libyan leader Muammar Gaddafi, who has been in power for more than 40 years and who has been accused by many African leaders of being too pessimistic about the future of the continent, and of failing to address the issue of poverty',\n",
              " \" French President Nicolas Sarkozy has had a busy first year in office, with visits to the Pope, the United States, Libya, and France's traditional summer holiday, the Lake Winnipesaukee in New Hampshire, where he was expected to stay in the 11-bathroom shorefront mansion of former Microsoft executive Michael Appe\",\n",
              " \" French President Nicolas Sarkozy has had a busy first year in office, with visits to the Pope, the United States, Libya, and France's traditional summer holiday, the Lake Winnipesaukee in New Hampshire, where he was expected to stay in the 11-bathroom shorefront mansion of former Microsoft executive Michael Appe\",\n",
              " ' French President Nicolas Sarkozy was re-elected for a second term in office in elections on 22 April, winning with 45',\n",
              " \"5% of the vote against the far-right National Front (FN)'s Marine Le Pen, who came second with 25\",\n",
              " '5%',\n",
              " ' French 888-282-0465 888-282-0465 technology has been 888-282-0465 designed and rigorously tested for completeness and security reasons',\n",
              " ' 888-282-0465 888-282-0465 888-282-0465 can be taught to people at the point of use, yet cannot be copied and pasted at the point of use',\n",
              " ' 888-282-0465 888-282-0465 888-282-0465 can also be taught to people at the point of use, but cannot be copied and pasted at the point of use',\n",
              " ' 888-282-0465 888-282-0465 can also be 888-282-0465 888-282-0465 888-282-0465 888-282-0465 888-282-0465 888-282-0465 888-282-0465 888-282-0465 can also be taught to people at the point of use, but cannot be copied and pasted at the point of use',\n",
              " ' 888-282-0465 888-282-0465 888-282-0465 can also be taught to people at the point of use, but cannot be copied and pasted at the point of use',\n",
              " ' 888-282-0465 888-282-0465 888-282-0465 can also be taught to people at the point of use, but cannot be copied and pasted at the point of use',\n",
              " ' 888-282-0465 888-282-0465 888-282-0465 888-282-0465 can also be taught to people at the point of use, but cannot be copied and pasted at the point of use',\n",
              " ' 888-282-0465 888-282-0465 888-282-0465 can also be taught to people Images courtesy of AFP, EPA, Getty Images and Reuters',\n",
              " \" 888-282-0465 888-282-0465 888-282-0465 888-282-0465 888-282-0465 888-282-0465 888-282-0465 888-282-0465 888-282-0465 888-282-0465 888-282-0465 888-282-0465 888-282-0465 888-282-0465 888-282-0465 888-282-0465 888-282-0465 888-282-0465 888-282-0465 888-282-0465 888-282-0465 888-282-0465 888-282-0465 888-282-0465 888-282-0465 888-282-0465 888-282-0465 888-282-0465 888-282-0465 888-282-0465 888-282-0465 888-282-0465 888-282-0465 888-282-0465 888-282-0465 888-282-0465 888-282-0465 French 888-282-0465 888-282-0465 888-282-0465: A selection of papers by French academics on Nicolas Sarkozy's time in the Elysee Palace, as compiled by the Centre for Research on French Politics at the University of Paris-Dakar (CRPD) between 2007 and 2012\",\n",
              " \" The French president, Nicolas Sarkozy, has announced that he will not seek re-election in next year's presidential election, and will step down at the end of his second term in office in May next year, at the end of his five-year term\",\n",
              " ' The winning numbers in Saturday evening\\'s drawing of the Kentucky Lottery\\'s \"5 Card Cash\" game were: JH-QS-JH-QS-QS (JH, QS, JH-QS, JH-QS, JH-QS)']"
            ]
          },
          "metadata": {},
          "execution_count": 29
        }
      ]
    },
    {
      "cell_type": "code",
      "source": [
        "summary = summarize_text(summary, 10)\n",
        "bleu, meteor, rouge_1, rouge_2, rouge_l = evaluation_scores(text, summary)\n",
        "\n",
        "print(\"BLEU score:\", bleu)\n",
        "print(\"METEOR score:\", meteor)\n",
        "print(\"ROUGE-1 score:\", rouge_1)\n",
        "print(\"ROUGE-2 score:\", rouge_2)\n",
        "print(\"ROUGE-L score:\", rouge_l)"
      ],
      "metadata": {
        "colab": {
          "base_uri": "https://localhost:8080/"
        },
        "id": "uIyKQL_-jDkb",
        "outputId": "85afc210-c72c-4af5-a326-3760f9bdef19"
      },
      "execution_count": 30,
      "outputs": [
        {
          "output_type": "stream",
          "name": "stderr",
          "text": [
            " 40%|████      | 2/5 [00:04<00:06,  2.27s/it]Your max_length is set to 200, but you input_length is only 181. You might consider decreasing max_length manually, e.g. summarizer('...', max_length=90)\n",
            " 60%|██████    | 3/5 [00:05<00:03,  1.86s/it]Your max_length is set to 200, but you input_length is only 134. You might consider decreasing max_length manually, e.g. summarizer('...', max_length=67)\n",
            " 80%|████████  | 4/5 [00:11<00:03,  3.24s/it]Your max_length is set to 200, but you input_length is only 117. You might consider decreasing max_length manually, e.g. summarizer('...', max_length=58)\n",
            "100%|██████████| 5/5 [00:14<00:00,  2.80s/it]\n"
          ]
        },
        {
          "output_type": "stream",
          "name": "stdout",
          "text": [
            "BLEU score: 5.5082675278483286e-232\n",
            "METEOR score: 0.17187886244018644\n",
            "ROUGE-1 score: 0.00937207122774133\n",
            "ROUGE-2 score: 0.18181818181818182\n",
            "ROUGE-L score: 0.18181818181818182\n"
          ]
        }
      ]
    },
    {
      "cell_type": "code",
      "source": [
        "summary.split('.')"
      ],
      "metadata": {
        "colab": {
          "base_uri": "https://localhost:8080/"
        },
        "outputId": "f338226d-5424-4a3a-f91d-687e4b85020a",
        "id": "mWc2G_tOjYkm"
      },
      "execution_count": 31,
      "outputs": [
        {
          "output_type": "execute_result",
          "data": {
            "text/plain": [
              "[\"French President Nicolas Sarkozy and his wife, Carla Bruni-Sarkozy, left Paris on 14 May for a week-long holiday in the Mediterranean, which included a visit to the island of Gozo, where Sarkozy's father, Pal Sarkozy, is from\",\n",
              " ' European leader to call for an end to the rule of Libyan leader Muammar Gaddafi, who has been in power for more than 40 years and who has been accused by many African leaders of being too pessimistic about the future of the continent, and of failing to address the issue of poverty',\n",
              " ' 888-282-0465 888-282-0465 888-282-0465 888-282-0465 technology has been designed and rigorously tested for completeness and security 888-282-0465',\n",
              " ' 888-282-0465 888-282-0465 888-282-0465 can also be taught to people at the point of use, but cannot be copied and pasted at the point of use 888-282-0465',\n",
              " ' 888-282-0465 can also be taught to people at the point of use, but cannot be copied and pasted at the point of use 888-282-0465',\n",
              " ' All photographs are copyrighted',\n",
              " \" 888-282-0465 888-282-0465: a selection of papers by French academics on Nicolas Sarkozy's time in the Elysee Palace, as compiled by the Centre for Research on French Politics at the EPA\",\n",
              " ' 888-282-0465: a selection of papers by French academics on Nicolas Sarkozy\\'s time in the Elysee Palace, as compiled by the Centre for Research on French Politics at the 888-282-0465 888-282-0465: a selection of papers by French academics on Nicolas Sarkozy\\'s time in the Elysee Palace, as compiled by the Centre for Research on French Politics at the EPA 888-282-0465: a selection of papers by French academics on Nicolas Sarkozy\\'s time in the Elysee Palace, as compiled by the Centre for Research on French Politics at the 888-282-0465: a selection of papers by French academics on Nicolas Sarkozy\\'s time in the Elysee Palace, as compiled by the Centre for Research on French Politics at the 888-282-0465: a selection of papers by French academics on Nicolas Sarkozy\\'s time in the Elysee Palace, as compiled The winning numbers in Saturday evening\\'s drawing of the Kentucky Lottery\\'s \"5 Card Cash\" game were: The winning numbers in Saturday evening\\'s drawing of the Kentucky Lottery\\'s \"5 Card Cash\" game were: JH-QS-JH-QS-QS (JH, QS, JH-QS, JH-QS)']"
            ]
          },
          "metadata": {},
          "execution_count": 31
        }
      ]
    },
    {
      "cell_type": "markdown",
      "source": [
        "# Conclusion\n",
        "\n",
        "The quality of text extraction is important because, in this example, the sources from the wikipedia article kept growing in importance over the subject.  \n",
        "In this scenario, extracting the main text from sources and image captions could have yielded higher scores in rouge/bleu evaluation.\n",
        "\n",
        "This first summarization pass has a lower rouge score than the second pass. Albeit counterintuitive, this can be explained by the removal of some of the numbers from references, which do not reflect the content of the complete article. The third summarization pass has worse scores, as expected. "
      ],
      "metadata": {
        "id": "AeohuzVCjgwK"
      }
    },
    {
      "cell_type": "code",
      "source": [],
      "metadata": {
        "id": "qSjn99Y5jqwm"
      },
      "execution_count": 31,
      "outputs": []
    }
  ]
}