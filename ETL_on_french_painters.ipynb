{
  "nbformat": 4,
  "nbformat_minor": 0,
  "metadata": {
    "colab": {
      "provenance": []
    },
    "kernelspec": {
      "name": "python3",
      "display_name": "Python 3"
    },
    "language_info": {
      "name": "python"
    }
  },
  "cells": [
    {
      "cell_type": "markdown",
      "source": [
        "# ETL test: load 10 painters form SPARQL endpoint, extract some attributes (name, best artwork) and save to .csv file\n",
        "\n",
        "Technically counts as an ETL"
      ],
      "metadata": {
        "id": "qCIcGEObQRCi"
      }
    },
    {
      "cell_type": "code",
      "execution_count": null,
      "metadata": {
        "id": "vHljCj1tE2xj"
      },
      "outputs": [],
      "source": [
        "import requests\n",
        "import json\n",
        "import pandas as pd"
      ]
    },
    {
      "cell_type": "code",
      "source": [
        "WIKIDATA_SPARQL_ENDPOINT = 'https://query.wikidata.org/sparql'\n"
      ],
      "metadata": {
        "id": "nwcz9RI1E4GH"
      },
      "execution_count": null,
      "outputs": []
    },
    {
      "cell_type": "code",
      "source": [
        "def fetch_french_painters_data(limit=10):\n",
        "    query = f'''\n",
        "    SELECT DISTINCT ?painter ?painterLabel ?artwork ?artworkLabel\n",
        "    WHERE {{\n",
        "        ?painter wdt:P106 wd:Q1028181;\n",
        "                 wdt:P27 wd:Q142.\n",
        "        ?artwork wdt:P170 ?painter.\n",
        "        SERVICE wikibase:label {{ bd:serviceParam wikibase:language \"en\". }}\n",
        "    }}\n",
        "    LIMIT {limit}\n",
        "    '''\n",
        "\n",
        "    headers = {\n",
        "        'Accept': 'application/sparql-results+json'\n",
        "    }\n",
        "\n",
        "    response = requests.get(WIKIDATA_SPARQL_ENDPOINT, headers=headers, params={'query': query})\n",
        "\n",
        "    if response.status_code == 200:\n",
        "        return json.loads(response.text)\n",
        "    else:\n",
        "        print(f'Error fetching data: {response.status_code}')\n",
        "        return None\n"
      ],
      "metadata": {
        "id": "HSVNcsc3GOHd"
      },
      "execution_count": null,
      "outputs": []
    },
    {
      "cell_type": "code",
      "source": [
        "def transform_french_painters_data(data):\n",
        "    results = data['results']['bindings']\n",
        "    transformed_data = []\n",
        "\n",
        "    for result in results:\n",
        "        transformed_data.append({\n",
        "            'painter': result['painterLabel']['value'],\n",
        "            'artwork': result['artworkLabel']['value'],\n",
        "            'painter_url': result['painter']['value'],\n",
        "            'artwork_url': result['artwork']['value'],\n",
        "        })\n",
        "\n",
        "    return transformed_data\n"
      ],
      "metadata": {
        "id": "2vK4teaoFAmr"
      },
      "execution_count": null,
      "outputs": []
    },
    {
      "cell_type": "code",
      "source": [
        "def save_data_to_csv(data, file_name='french_painters_data.csv'):\n",
        "    df = pd.DataFrame(data)\n",
        "    df.to_csv(file_name, index=False)\n",
        "    print(f'Successfully saved data in {file_name}')\n"
      ],
      "metadata": {
        "id": "fTjAaOTtFCvO"
      },
      "execution_count": null,
      "outputs": []
    },
    {
      "cell_type": "code",
      "source": [
        "def main():\n",
        "    raw_data = fetch_french_painters_data()\n",
        "    if raw_data:\n",
        "        transformed_data = transform_french_painters_data(raw_data)\n",
        "        save_data_to_csv(transformed_data)\n",
        "\n",
        "if __name__ == '__main__':\n",
        "    main()\n"
      ],
      "metadata": {
        "colab": {
          "base_uri": "https://localhost:8080/"
        },
        "id": "bKQQZKFpFED0",
        "outputId": "8c31c846-e8ef-4bfc-c15c-894ac2b59c36"
      },
      "execution_count": null,
      "outputs": [
        {
          "output_type": "stream",
          "name": "stdout",
          "text": [
            "Successfully saved data in french_painters_data.csv\n"
          ]
        }
      ]
    }
  ]
}